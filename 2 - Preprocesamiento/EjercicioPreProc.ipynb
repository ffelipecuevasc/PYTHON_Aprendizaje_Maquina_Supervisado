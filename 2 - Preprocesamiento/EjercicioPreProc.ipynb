{
 "cells": [
  {
   "cell_type": "code",
   "id": "initial_id",
   "metadata": {
    "collapsed": true,
    "ExecuteTime": {
     "end_time": "2025-08-18T02:37:23.677849Z",
     "start_time": "2025-08-18T02:37:17.728151Z"
    }
   },
   "source": [
    "import pandas as pd\n",
    "import numpy as np\n",
    "from pymongo import MongoClient"
   ],
   "outputs": [],
   "execution_count": 1
  },
  {
   "metadata": {
    "ExecuteTime": {
     "end_time": "2025-08-18T02:37:36.801576Z",
     "start_time": "2025-08-18T02:37:36.677145Z"
    }
   },
   "cell_type": "code",
   "source": [
    "# ⚙️ Ajusta estos valores a tu entorno\n",
    "MONGO_URI = \"mongodb://localhost:27017\"   # o tu cadena completa (usuario/clave/host/puerto)\n",
    "DB_NAME = \"educacion_chile\"               # nombre de la base que usaste al cargar los datos\n",
    "COLLECTION = \"estudiantes_tecnicos\"       # nombre de la colección con el dataset\n",
    "\n",
    "client = MongoClient(MONGO_URI)\n",
    "db = client[DB_NAME]\n",
    "col = db[COLLECTION]\n",
    "\n",
    "# Prueba rápida de conexión y conteo\n",
    "num_docs = col.count_documents({})\n",
    "print(f\"Conectado ✅  | Documentos en la colección: {num_docs}\")"
   ],
   "id": "1e50c682f54ef60f",
   "outputs": [
    {
     "name": "stdout",
     "output_type": "stream",
     "text": [
      "Conectado ✅  | Documentos en la colección: 84\n"
     ]
    }
   ],
   "execution_count": 2
  },
  {
   "metadata": {
    "ExecuteTime": {
     "end_time": "2025-08-18T02:39:22.943746Z",
     "start_time": "2025-08-18T02:39:22.848943Z"
    }
   },
   "cell_type": "code",
   "source": [
    "# Si quieres limitar campos, define un 'projection' (ejemplo abajo). Si no, usa None.\n",
    "projection = None\n",
    "# projection = {\n",
    "#     \"_id\": 0,\n",
    "#     \"asistencia\": 1,\n",
    "#     \"promedio_notas\": 1,\n",
    "#     \"genero\": 1,\n",
    "#     \"tipo_establecimiento\": 1,\n",
    "#     \"condicion_socioeconomica\": 1,\n",
    "#     \"riesgo_desercion\": 1,      # objetivo de REGRESIÓN (continua)\n",
    "#     \"abandono_reportado\": 1     # objetivo de CLASIFICACIÓN (0/1 o True/False)\n",
    "# }\n",
    "\n",
    "cursor = col.find({}, projection)\n",
    "df = pd.DataFrame(list(cursor))\n",
    "df = df.drop(columns=['_id'])\n",
    "\n",
    "print(\"Filas x Columnas:\", df.shape)\n",
    "df.head()"
   ],
   "id": "b4766a46be6e1659",
   "outputs": [
    {
     "name": "stdout",
     "output_type": "stream",
     "text": [
      "Filas x Columnas: (84, 11)\n"
     ]
    },
    {
     "data": {
      "text/plain": [
       "             nombre genero  edad                region        comuna  \\\n",
       "0     Camila Torres      F    17  Región Metropolitana   Puente Alto   \n",
       "1   Ignacio Paredes      M    18  Región Metropolitana         Maipú   \n",
       "2   Valentina Rojas      F    17  Región Metropolitana    Las Condes   \n",
       "3    Matías Herrera      M    16  Región Metropolitana  San Bernardo   \n",
       "4  Daniela González      F    18  Región Metropolitana      Vitacura   \n",
       "\n",
       "   asistencia  promedio_notas tipo_establecimiento condicion_socioeconomica  \\\n",
       "0          62             4.8            municipal                     baja   \n",
       "1          68             5.1            municipal                     baja   \n",
       "2          91             6.4           particular                     alta   \n",
       "3          70             5.0            municipal                    media   \n",
       "4          95             6.6           particular                     alta   \n",
       "\n",
       "   riesgo_desercion  abandono_reportado  \n",
       "0              0.82                True  \n",
       "1              0.73               False  \n",
       "2              0.12               False  \n",
       "3              0.58               False  \n",
       "4              0.09               False  "
      ],
      "text/html": [
       "<div>\n",
       "<style scoped>\n",
       "    .dataframe tbody tr th:only-of-type {\n",
       "        vertical-align: middle;\n",
       "    }\n",
       "\n",
       "    .dataframe tbody tr th {\n",
       "        vertical-align: top;\n",
       "    }\n",
       "\n",
       "    .dataframe thead th {\n",
       "        text-align: right;\n",
       "    }\n",
       "</style>\n",
       "<table border=\"1\" class=\"dataframe\">\n",
       "  <thead>\n",
       "    <tr style=\"text-align: right;\">\n",
       "      <th></th>\n",
       "      <th>nombre</th>\n",
       "      <th>genero</th>\n",
       "      <th>edad</th>\n",
       "      <th>region</th>\n",
       "      <th>comuna</th>\n",
       "      <th>asistencia</th>\n",
       "      <th>promedio_notas</th>\n",
       "      <th>tipo_establecimiento</th>\n",
       "      <th>condicion_socioeconomica</th>\n",
       "      <th>riesgo_desercion</th>\n",
       "      <th>abandono_reportado</th>\n",
       "    </tr>\n",
       "  </thead>\n",
       "  <tbody>\n",
       "    <tr>\n",
       "      <th>0</th>\n",
       "      <td>Camila Torres</td>\n",
       "      <td>F</td>\n",
       "      <td>17</td>\n",
       "      <td>Región Metropolitana</td>\n",
       "      <td>Puente Alto</td>\n",
       "      <td>62</td>\n",
       "      <td>4.8</td>\n",
       "      <td>municipal</td>\n",
       "      <td>baja</td>\n",
       "      <td>0.82</td>\n",
       "      <td>True</td>\n",
       "    </tr>\n",
       "    <tr>\n",
       "      <th>1</th>\n",
       "      <td>Ignacio Paredes</td>\n",
       "      <td>M</td>\n",
       "      <td>18</td>\n",
       "      <td>Región Metropolitana</td>\n",
       "      <td>Maipú</td>\n",
       "      <td>68</td>\n",
       "      <td>5.1</td>\n",
       "      <td>municipal</td>\n",
       "      <td>baja</td>\n",
       "      <td>0.73</td>\n",
       "      <td>False</td>\n",
       "    </tr>\n",
       "    <tr>\n",
       "      <th>2</th>\n",
       "      <td>Valentina Rojas</td>\n",
       "      <td>F</td>\n",
       "      <td>17</td>\n",
       "      <td>Región Metropolitana</td>\n",
       "      <td>Las Condes</td>\n",
       "      <td>91</td>\n",
       "      <td>6.4</td>\n",
       "      <td>particular</td>\n",
       "      <td>alta</td>\n",
       "      <td>0.12</td>\n",
       "      <td>False</td>\n",
       "    </tr>\n",
       "    <tr>\n",
       "      <th>3</th>\n",
       "      <td>Matías Herrera</td>\n",
       "      <td>M</td>\n",
       "      <td>16</td>\n",
       "      <td>Región Metropolitana</td>\n",
       "      <td>San Bernardo</td>\n",
       "      <td>70</td>\n",
       "      <td>5.0</td>\n",
       "      <td>municipal</td>\n",
       "      <td>media</td>\n",
       "      <td>0.58</td>\n",
       "      <td>False</td>\n",
       "    </tr>\n",
       "    <tr>\n",
       "      <th>4</th>\n",
       "      <td>Daniela González</td>\n",
       "      <td>F</td>\n",
       "      <td>18</td>\n",
       "      <td>Región Metropolitana</td>\n",
       "      <td>Vitacura</td>\n",
       "      <td>95</td>\n",
       "      <td>6.6</td>\n",
       "      <td>particular</td>\n",
       "      <td>alta</td>\n",
       "      <td>0.09</td>\n",
       "      <td>False</td>\n",
       "    </tr>\n",
       "  </tbody>\n",
       "</table>\n",
       "</div>"
      ]
     },
     "execution_count": 5,
     "metadata": {},
     "output_type": "execute_result"
    }
   ],
   "execution_count": 5
  },
  {
   "metadata": {
    "ExecuteTime": {
     "end_time": "2025-08-18T02:40:16.417120Z",
     "start_time": "2025-08-18T02:40:16.357775Z"
    }
   },
   "cell_type": "code",
   "source": [
    "# Tipos de datos\n",
    "print(df.dtypes, \"\\n\")\n",
    "\n",
    "# Conteo de nulos por columna\n",
    "print(\"Nulos por columna:\\n\", df.isna().sum(), \"\\n\")\n",
    "\n",
    "# Vistazo estadístico rápido de columnas numéricas\n",
    "display(df.describe())\n",
    "\n",
    "# Guardar una copia limpia en memoria para siguientes pasos\n",
    "data = df.copy()\n",
    "print(\"Dataset listo para modelado ✅\")"
   ],
   "id": "28874dc0dee35367",
   "outputs": [
    {
     "name": "stdout",
     "output_type": "stream",
     "text": [
      "nombre                       object\n",
      "genero                       object\n",
      "edad                          int64\n",
      "region                       object\n",
      "comuna                       object\n",
      "asistencia                    int64\n",
      "promedio_notas              float64\n",
      "tipo_establecimiento         object\n",
      "condicion_socioeconomica     object\n",
      "riesgo_desercion            float64\n",
      "abandono_reportado             bool\n",
      "dtype: object \n",
      "\n",
      "Nulos por columna:\n",
      " nombre                      0\n",
      "genero                      0\n",
      "edad                        0\n",
      "region                      0\n",
      "comuna                      0\n",
      "asistencia                  0\n",
      "promedio_notas              0\n",
      "tipo_establecimiento        0\n",
      "condicion_socioeconomica    0\n",
      "riesgo_desercion            0\n",
      "abandono_reportado          0\n",
      "dtype: int64 \n",
      "\n"
     ]
    },
    {
     "data": {
      "text/plain": [
       "            edad  asistencia  promedio_notas  riesgo_desercion\n",
       "count  84.000000   84.000000       84.000000         84.000000\n",
       "mean   17.023810   75.928571        5.476190          0.461905\n",
       "std     0.775781   10.717383        0.628178          0.255642\n",
       "min    16.000000   54.000000        4.300000          0.070000\n",
       "25%    16.000000   68.000000        4.900000          0.247500\n",
       "50%    17.000000   76.500000        5.500000          0.425000\n",
       "75%    18.000000   85.000000        6.000000          0.702500\n",
       "max    18.000000   95.000000        6.700000          0.950000"
      ],
      "text/html": [
       "<div>\n",
       "<style scoped>\n",
       "    .dataframe tbody tr th:only-of-type {\n",
       "        vertical-align: middle;\n",
       "    }\n",
       "\n",
       "    .dataframe tbody tr th {\n",
       "        vertical-align: top;\n",
       "    }\n",
       "\n",
       "    .dataframe thead th {\n",
       "        text-align: right;\n",
       "    }\n",
       "</style>\n",
       "<table border=\"1\" class=\"dataframe\">\n",
       "  <thead>\n",
       "    <tr style=\"text-align: right;\">\n",
       "      <th></th>\n",
       "      <th>edad</th>\n",
       "      <th>asistencia</th>\n",
       "      <th>promedio_notas</th>\n",
       "      <th>riesgo_desercion</th>\n",
       "    </tr>\n",
       "  </thead>\n",
       "  <tbody>\n",
       "    <tr>\n",
       "      <th>count</th>\n",
       "      <td>84.000000</td>\n",
       "      <td>84.000000</td>\n",
       "      <td>84.000000</td>\n",
       "      <td>84.000000</td>\n",
       "    </tr>\n",
       "    <tr>\n",
       "      <th>mean</th>\n",
       "      <td>17.023810</td>\n",
       "      <td>75.928571</td>\n",
       "      <td>5.476190</td>\n",
       "      <td>0.461905</td>\n",
       "    </tr>\n",
       "    <tr>\n",
       "      <th>std</th>\n",
       "      <td>0.775781</td>\n",
       "      <td>10.717383</td>\n",
       "      <td>0.628178</td>\n",
       "      <td>0.255642</td>\n",
       "    </tr>\n",
       "    <tr>\n",
       "      <th>min</th>\n",
       "      <td>16.000000</td>\n",
       "      <td>54.000000</td>\n",
       "      <td>4.300000</td>\n",
       "      <td>0.070000</td>\n",
       "    </tr>\n",
       "    <tr>\n",
       "      <th>25%</th>\n",
       "      <td>16.000000</td>\n",
       "      <td>68.000000</td>\n",
       "      <td>4.900000</td>\n",
       "      <td>0.247500</td>\n",
       "    </tr>\n",
       "    <tr>\n",
       "      <th>50%</th>\n",
       "      <td>17.000000</td>\n",
       "      <td>76.500000</td>\n",
       "      <td>5.500000</td>\n",
       "      <td>0.425000</td>\n",
       "    </tr>\n",
       "    <tr>\n",
       "      <th>75%</th>\n",
       "      <td>18.000000</td>\n",
       "      <td>85.000000</td>\n",
       "      <td>6.000000</td>\n",
       "      <td>0.702500</td>\n",
       "    </tr>\n",
       "    <tr>\n",
       "      <th>max</th>\n",
       "      <td>18.000000</td>\n",
       "      <td>95.000000</td>\n",
       "      <td>6.700000</td>\n",
       "      <td>0.950000</td>\n",
       "    </tr>\n",
       "  </tbody>\n",
       "</table>\n",
       "</div>"
      ]
     },
     "metadata": {},
     "output_type": "display_data"
    },
    {
     "name": "stdout",
     "output_type": "stream",
     "text": [
      "Dataset listo para modelado ✅\n"
     ]
    }
   ],
   "execution_count": 6
  },
  {
   "metadata": {
    "ExecuteTime": {
     "end_time": "2025-08-18T02:40:34.404516Z",
     "start_time": "2025-08-18T02:40:28.576810Z"
    }
   },
   "cell_type": "code",
   "source": [
    "from sklearn.model_selection import train_test_split\n",
    "\n",
    "# Variables predictoras (features)\n",
    "features = [\"asistencia\", \"promedio_notas\",\n",
    "            \"genero\", \"tipo_establecimiento\", \"condicion_socioeconomica\"]\n",
    "\n",
    "# Objetivos\n",
    "target_reg = \"riesgo_desercion\"      # regresión\n",
    "target_clf = \"abandono_reportado\"    # clasificación\n",
    "\n",
    "# --- Copias separadas para cada tarea ---\n",
    "X_reg = data[features].copy()\n",
    "y_reg = data[target_reg].copy()\n",
    "\n",
    "X_clf = data[features].copy()\n",
    "y_clf = data[target_clf].copy()"
   ],
   "id": "1b19e3b2f39254e0",
   "outputs": [],
   "execution_count": 7
  },
  {
   "metadata": {
    "ExecuteTime": {
     "end_time": "2025-08-18T02:40:44.478772Z",
     "start_time": "2025-08-18T02:40:44.469532Z"
    }
   },
   "cell_type": "code",
   "source": [
    "# ⚠️ Solo convertimos si es necesario.\n",
    "# Ejemplo: para clasificación, asegurar que y_clf sea int (0/1)\n",
    "if y_clf.dtype == bool:\n",
    "    y_clf = y_clf.astype(int)\n",
    "\n",
    "print(\"Tipo de y_reg:\", y_reg.dtype)\n",
    "print(\"Tipo de y_clf:\", y_clf.dtype)"
   ],
   "id": "f8c2569dbfe7cc6f",
   "outputs": [
    {
     "name": "stdout",
     "output_type": "stream",
     "text": [
      "Tipo de y_reg: float64\n",
      "Tipo de y_clf: int32\n"
     ]
    }
   ],
   "execution_count": 8
  },
  {
   "metadata": {
    "ExecuteTime": {
     "end_time": "2025-08-18T02:40:51.894060Z",
     "start_time": "2025-08-18T02:40:51.871918Z"
    }
   },
   "cell_type": "code",
   "source": [
    "# División 80/20 con semilla reproducible\n",
    "X_train_reg, X_test_reg, y_train_reg, y_test_reg = train_test_split(\n",
    "    X_reg, y_reg, test_size=0.2, random_state=42\n",
    ")\n",
    "\n",
    "X_train_clf, X_test_clf, y_train_clf, y_test_clf = train_test_split(\n",
    "    X_clf, y_clf, test_size=0.2, random_state=42\n",
    ")\n",
    "\n",
    "print(\"Regresión → Train:\", X_train_reg.shape, \" | Test:\", X_test_reg.shape)\n",
    "print(\"Clasificación → Train:\", X_train_clf.shape, \" | Test:\", X_test_clf.shape)"
   ],
   "id": "3f1261dc0293c6a5",
   "outputs": [
    {
     "name": "stdout",
     "output_type": "stream",
     "text": [
      "Regresión → Train: (67, 5)  | Test: (17, 5)\n",
      "Clasificación → Train: (67, 5)  | Test: (17, 5)\n"
     ]
    }
   ],
   "execution_count": 9
  },
  {
   "metadata": {
    "ExecuteTime": {
     "end_time": "2025-08-18T02:41:04.482740Z",
     "start_time": "2025-08-18T02:41:04.427952Z"
    }
   },
   "cell_type": "code",
   "source": [
    "from sklearn.compose import ColumnTransformer\n",
    "from sklearn.preprocessing import OneHotEncoder, StandardScaler\n",
    "from sklearn.pipeline import Pipeline\n",
    "\n",
    "# Reusa la lista 'features' definida en el paso 2\n",
    "numeric_features = [\"asistencia\", \"promedio_notas\"]\n",
    "categorical_features = [\"genero\", \"tipo_establecimiento\", \"condicion_socioeconomica\"]\n",
    "\n",
    "preprocess = ColumnTransformer(\n",
    "    transformers=[\n",
    "        (\"num\", StandardScaler(), numeric_features),\n",
    "        (\"cat\", OneHotEncoder(handle_unknown=\"ignore\"), categorical_features),\n",
    "    ]\n",
    ")"
   ],
   "id": "160d87185edcc33",
   "outputs": [],
   "execution_count": 10
  },
  {
   "metadata": {
    "ExecuteTime": {
     "end_time": "2025-08-18T02:41:28.027460Z",
     "start_time": "2025-08-18T02:41:27.435359Z"
    }
   },
   "cell_type": "code",
   "source": [
    "from sklearn.linear_model import LinearRegression\n",
    "from sklearn.metrics import mean_absolute_error, mean_squared_error, r2_score\n",
    "\n",
    "# Pipeline de REGRESIÓN\n",
    "reg_pipeline = Pipeline(steps=[\n",
    "    (\"prep\", preprocess),\n",
    "    (\"model\", LinearRegression())\n",
    "])\n",
    "\n",
    "# Entrenar\n",
    "reg_pipeline.fit(X_train_reg, y_train_reg)\n",
    "\n",
    "# Predecir y medir\n",
    "y_pred_reg = reg_pipeline.predict(X_test_reg)\n",
    "\n",
    "mae  = mean_absolute_error(y_test_reg, y_pred_reg)\n",
    "mse  = mean_squared_error(y_test_reg, y_pred_reg)\n",
    "rmse = np.sqrt(mse)\n",
    "r2   = r2_score(y_test_reg, y_pred_reg)\n",
    "\n",
    "metrics_reg = pd.DataFrame({\n",
    "    \"Métrica\": [\"MAE\", \"MSE\", \"RMSE\", \"R²\"],\n",
    "    \"Valor\":   [mae, mse, rmse, r2]\n",
    "})\n",
    "metrics_reg"
   ],
   "id": "134fcfcdf72ad300",
   "outputs": [
    {
     "data": {
      "text/plain": [
       "  Métrica     Valor\n",
       "0     MAE  0.022290\n",
       "1     MSE  0.000831\n",
       "2    RMSE  0.028835\n",
       "3      R²  0.990266"
      ],
      "text/html": [
       "<div>\n",
       "<style scoped>\n",
       "    .dataframe tbody tr th:only-of-type {\n",
       "        vertical-align: middle;\n",
       "    }\n",
       "\n",
       "    .dataframe tbody tr th {\n",
       "        vertical-align: top;\n",
       "    }\n",
       "\n",
       "    .dataframe thead th {\n",
       "        text-align: right;\n",
       "    }\n",
       "</style>\n",
       "<table border=\"1\" class=\"dataframe\">\n",
       "  <thead>\n",
       "    <tr style=\"text-align: right;\">\n",
       "      <th></th>\n",
       "      <th>Métrica</th>\n",
       "      <th>Valor</th>\n",
       "    </tr>\n",
       "  </thead>\n",
       "  <tbody>\n",
       "    <tr>\n",
       "      <th>0</th>\n",
       "      <td>MAE</td>\n",
       "      <td>0.022290</td>\n",
       "    </tr>\n",
       "    <tr>\n",
       "      <th>1</th>\n",
       "      <td>MSE</td>\n",
       "      <td>0.000831</td>\n",
       "    </tr>\n",
       "    <tr>\n",
       "      <th>2</th>\n",
       "      <td>RMSE</td>\n",
       "      <td>0.028835</td>\n",
       "    </tr>\n",
       "    <tr>\n",
       "      <th>3</th>\n",
       "      <td>R²</td>\n",
       "      <td>0.990266</td>\n",
       "    </tr>\n",
       "  </tbody>\n",
       "</table>\n",
       "</div>"
      ]
     },
     "execution_count": 11,
     "metadata": {},
     "output_type": "execute_result"
    }
   ],
   "execution_count": 11
  },
  {
   "metadata": {
    "ExecuteTime": {
     "end_time": "2025-08-18T02:41:59.715857Z",
     "start_time": "2025-08-18T02:41:59.446444Z"
    }
   },
   "cell_type": "code",
   "source": [
    "from sklearn.neighbors import KNeighborsClassifier\n",
    "from sklearn.metrics import (\n",
    "    accuracy_score, precision_score, recall_score,\n",
    "    confusion_matrix, roc_auc_score, roc_curve\n",
    ")\n",
    "\n",
    "# Pipeline de CLASIFICACIÓN (KNN)\n",
    "clf_pipeline = Pipeline(steps=[\n",
    "    (\"prep\", preprocess),\n",
    "    (\"model\", KNeighborsClassifier(n_neighbors=5))\n",
    "])\n",
    "\n",
    "# Entrenar\n",
    "clf_pipeline.fit(X_train_clf, y_train_clf)\n",
    "\n",
    "# Predicciones\n",
    "y_pred_clf = clf_pipeline.predict(X_test_clf)\n",
    "y_proba_clf = clf_pipeline.predict_proba(X_test_clf)[:, 1]  # para AUC/ROC\n",
    "\n",
    "# Métricas básicas\n",
    "accuracy   = accuracy_score(y_test_clf, y_pred_clf)\n",
    "precision  = precision_score(y_test_clf, y_pred_clf, zero_division=0)\n",
    "recall     = recall_score(y_test_clf, y_pred_clf, zero_division=0)\n",
    "\n",
    "# Especificidad desde la matriz de confusión\n",
    "tn, fp, fn, tp = confusion_matrix(y_test_clf, y_pred_clf).ravel()\n",
    "specificity = tn / (tn + fp) if (tn + fp) > 0 else 0.0\n",
    "\n",
    "# AUC\n",
    "auc = roc_auc_score(y_test_clf, y_proba_clf)\n",
    "\n",
    "metrics_clf = pd.DataFrame({\n",
    "    \"Métrica\": [\"Accuracy\", \"Precision\", \"Recall (Sensibilidad)\", \"Especificidad\", \"AUC\"],\n",
    "    \"Valor\":   [accuracy, precision, recall, specificity, auc]\n",
    "})\n",
    "metrics_clf"
   ],
   "id": "f15c9341c57c5df",
   "outputs": [
    {
     "data": {
      "text/plain": [
       "                 Métrica     Valor\n",
       "0               Accuracy  0.941176\n",
       "1              Precision  1.000000\n",
       "2  Recall (Sensibilidad)  0.800000\n",
       "3          Especificidad  1.000000\n",
       "4                    AUC  0.991667"
      ],
      "text/html": [
       "<div>\n",
       "<style scoped>\n",
       "    .dataframe tbody tr th:only-of-type {\n",
       "        vertical-align: middle;\n",
       "    }\n",
       "\n",
       "    .dataframe tbody tr th {\n",
       "        vertical-align: top;\n",
       "    }\n",
       "\n",
       "    .dataframe thead th {\n",
       "        text-align: right;\n",
       "    }\n",
       "</style>\n",
       "<table border=\"1\" class=\"dataframe\">\n",
       "  <thead>\n",
       "    <tr style=\"text-align: right;\">\n",
       "      <th></th>\n",
       "      <th>Métrica</th>\n",
       "      <th>Valor</th>\n",
       "    </tr>\n",
       "  </thead>\n",
       "  <tbody>\n",
       "    <tr>\n",
       "      <th>0</th>\n",
       "      <td>Accuracy</td>\n",
       "      <td>0.941176</td>\n",
       "    </tr>\n",
       "    <tr>\n",
       "      <th>1</th>\n",
       "      <td>Precision</td>\n",
       "      <td>1.000000</td>\n",
       "    </tr>\n",
       "    <tr>\n",
       "      <th>2</th>\n",
       "      <td>Recall (Sensibilidad)</td>\n",
       "      <td>0.800000</td>\n",
       "    </tr>\n",
       "    <tr>\n",
       "      <th>3</th>\n",
       "      <td>Especificidad</td>\n",
       "      <td>1.000000</td>\n",
       "    </tr>\n",
       "    <tr>\n",
       "      <th>4</th>\n",
       "      <td>AUC</td>\n",
       "      <td>0.991667</td>\n",
       "    </tr>\n",
       "  </tbody>\n",
       "</table>\n",
       "</div>"
      ]
     },
     "execution_count": 12,
     "metadata": {},
     "output_type": "execute_result"
    }
   ],
   "execution_count": 12
  },
  {
   "metadata": {
    "ExecuteTime": {
     "end_time": "2025-08-18T02:42:14.638280Z",
     "start_time": "2025-08-18T02:42:12.718518Z"
    }
   },
   "cell_type": "code",
   "source": [
    "import matplotlib.pyplot as plt\n",
    "import seaborn as sns\n",
    "from sklearn.metrics import confusion_matrix\n",
    "\n",
    "# Generar matriz\n",
    "cm = confusion_matrix(y_test_clf, y_pred_clf)\n",
    "\n",
    "plt.figure(figsize=(4,3))\n",
    "sns.heatmap(cm, annot=True, fmt=\"d\", cmap=\"Blues\", cbar=False,\n",
    "            xticklabels=[\"No Abandono\", \"Abandono\"],\n",
    "            yticklabels=[\"No Abandono\", \"Abandono\"])\n",
    "plt.xlabel(\"Predicción\")\n",
    "plt.ylabel(\"Real\")\n",
    "plt.title(\"Matriz de Confusión - KNN\")\n",
    "plt.show()"
   ],
   "id": "61fa1c10100925a3",
   "outputs": [
    {
     "data": {
      "text/plain": [
       "<Figure size 400x300 with 1 Axes>"
      ],
      "image/png": "[encoded data removed]"
     },
     "metadata": {},
     "output_type": "display_data"
    }
   ],
   "execution_count": 13
  },
  {
   "metadata": {
    "ExecuteTime": {
     "end_time": "2025-08-18T02:42:24.467136Z",
     "start_time": "2025-08-18T02:42:24.269921Z"
    }
   },
   "cell_type": "code",
   "source": [
    "from sklearn.metrics import roc_curve, auc\n",
    "\n",
    "# Calcular curva ROC\n",
    "fpr, tpr, thresholds = roc_curve(y_test_clf, y_proba_clf)\n",
    "roc_auc = auc(fpr, tpr)\n",
    "\n",
    "plt.figure(figsize=(5,4))\n",
    "plt.plot(fpr, tpr, label=f\"AUC = {roc_auc:.2f}\")\n",
    "plt.plot([0,1], [0,1], \"k--\")  # línea aleatoria\n",
    "plt.xlabel(\"Tasa de Falsos Positivos (1 - Especificidad)\")\n",
    "plt.ylabel(\"Tasa de Verdaderos Positivos (Sensibilidad)\")\n",
    "plt.title(\"Curva ROC - KNN\")\n",
    "plt.legend(loc=\"lower right\")\n",
    "plt.show()"
   ],
   "id": "8349b98864686f3d",
   "outputs": [
    {
     "data": {
      "text/plain": [
       "<Figure size 500x400 with 1 Axes>"
      ],
      "image/png": "[encoded data removed]"
     },
     "metadata": {},
     "output_type": "display_data"
    }
   ],
   "execution_count": 14
  }
 ],
 "metadata": {
  "kernelspec": {
   "display_name": "Python [conda env:base] *",
   "language": "python",
   "name": "conda-base-py"
  },
  "language_info": {
   "codemirror_mode": {
    "name": "ipython",
    "version": 2
   },
   "file_extension": ".py",
   "mimetype": "text/x-python",
   "name": "python",
   "nbconvert_exporter": "python",
   "pygments_lexer": "ipython2",
   "version": "2.7.6"
  }
 },
 "nbformat": 4,
 "nbformat_minor": 5
}
